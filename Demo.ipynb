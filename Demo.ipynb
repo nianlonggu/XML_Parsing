{
 "cells": [
  {
   "cell_type": "markdown",
   "metadata": {},
   "source": [
    "#### Install necessary modules"
   ]
  },
  {
   "cell_type": "code",
   "execution_count": 1,
   "metadata": {},
   "outputs": [
    {
     "name": "stdout",
     "output_type": "stream",
     "text": [
      "Requirement already satisfied: lxml in /home/nianlong/anaconda3/envs/mylab/lib/python3.6/site-packages (from -r requirements.txt (line 1)) (4.4.1)\r\n",
      "Requirement already satisfied: six in /home/nianlong/anaconda3/envs/mylab/lib/python3.6/site-packages (from -r requirements.txt (line 2)) (1.12.0)\r\n",
      "Requirement already satisfied: unidecode in /home/nianlong/anaconda3/envs/mylab/lib/python3.6/site-packages (from -r requirements.txt (line 3)) (1.1.1)\r\n"
     ]
    }
   ],
   "source": [
    "!pip install -r requirements.txt"
   ]
  },
  {
   "cell_type": "markdown",
   "metadata": {},
   "source": [
    "#### Import pubmed_oa_parser  \"oa\" stands for pubmed open access dataset. \n",
    "\n",
    "Papers' xml files within this dataset have uniform formats. So a specialized xml parser is designed for these dataset. This pubmed parser is based on the \"lxml\" module"
   ]
  },
  {
   "cell_type": "code",
   "execution_count": 5,
   "metadata": {},
   "outputs": [],
   "source": [
    "from pubmed_parser.pubmed_oa_parser import  parse_pubmed_xml, parse_pubmed_paragraph, parse_pubmed_references, parse_pubmed_caption"
   ]
  },
  {
   "cell_type": "markdown",
   "metadata": {},
   "source": [
    "A brief introduction of these four functions:\n",
    "\n",
    "    1. parse_pubmed_xml:\n",
    "       This function takes the path to xml file or a byte string object of a xml file as input. It will return all the main meta information of a pubmed paper, including title, abstract, pmid, doi, author_list, affiliation_list, etc. \n",
    "       \n",
    "    2. parse_pubmed_paragraph:\n",
    "       This function takes xml as input, and return a list of paragraphs. Each paragraph contains information like pmc, pmid, reference ids, section and text.\n",
    "       \n",
    "    3. parse_pubmed_references:\n",
    "       This function parse the citation information of a paper, mapping reference ids to pmids\n",
    "       \n",
    "    4. parse_pubmed_caption:\n",
    "       This function parse the figure captions, etc."
   ]
  },
  {
   "cell_type": "markdown",
   "metadata": {},
   "source": [
    "#### Examples"
   ]
  },
  {
   "cell_type": "code",
   "execution_count": 6,
   "metadata": {},
   "outputs": [],
   "source": [
    "path_to_xml_file = \"data/pubmed/xml/PMC3339580.nxml\""
   ]
  },
  {
   "cell_type": "markdown",
   "metadata": {},
   "source": [
    "##### parse_pubmed_xml"
   ]
  },
  {
   "cell_type": "code",
   "execution_count": 13,
   "metadata": {},
   "outputs": [],
   "source": [
    "parsed_paper_info = parse_pubmed_xml(path_to_xml_file)"
   ]
  },
  {
   "cell_type": "code",
   "execution_count": 8,
   "metadata": {},
   "outputs": [
    {
     "data": {
      "text/plain": [
       "{'full_title': 'Decolorization and partial mineralization of a polyazo dye by  Bacillus firmus  immobilized within tubular polymeric gel',\n",
       " 'abstract': 'The degradation of C.I. Direct red 80, a polyazo dye, was investigated using Bacillus firmus immobilized by entrapment in tubular polymeric gel. This bacterial strain was able to completely decolorize 50\\xa0mg/L of C.I. Direct red 80 under anoxic conditions within 12\\xa0h and also degrade the reaction intermediates (aromatic amines) during the subsequent 12\\xa0h under aerobic conditions. The tubular gel harboring the immobilized cells consisted of anoxic and aerobic regions integrated in a single unit which was ideal for azo dye degradation studies. Results obtained show that effective dye decolorization (97.8%), chemical oxygen demand (COD) reduction (91.7%) and total aromatic amines removal were obtained in 15\\xa0h with the immobilized bacterial cell system whereas for the free cells, a hydraulic residence time of 24\\xa0h was required for an equivalent performance in a sequential anoxic and aerobic process. Repeated-batch experiments indicate the immobilized cells could decolorize C.I. Direct red 80 and reduce medium COD in five successive batch runs with enhanced activity obtained after each consecutive run, thus suggesting its stability and potential for repeated use in wastewater treatment. UV–visible spectrophotometry and HPLC analysis were used to confirm the partial mineralization of the dye. Data from this study could be used as a reference for the development of effective industrial scale biotechnological process for the removal of dyes and their metabolites in textile wastewater.',\n",
       " 'journal': '3 Biotech',\n",
       " 'pmid': '22582158',\n",
       " 'pmc': '3339580',\n",
       " 'doi': '10.1007/s13205-011-0035-3',\n",
       " 'publisher_id': '35',\n",
       " 'author_list': [['Ogugbue', 'Chimezie Jason', 'Aff1'],\n",
       "  ['Ogugbue', 'Chimezie Jason', 'Aff3'],\n",
       "  ['Morad', 'Norhashimah', 'Aff1'],\n",
       "  ['Sawidis', 'Thomas', 'Aff2'],\n",
       "  ['Oranusi', 'Nathaniel A.', 'Aff3']],\n",
       " 'affiliation_list': [['Aff1',\n",
       "   'School of Industrial Technology, Universiti Sains Malaysia, 11800 Penang, Malaysia'],\n",
       "  ['Aff2',\n",
       "   'School of Biology, Aristotle University of Thessaloniki, Thessaloniki, Macedonia Greece'],\n",
       "  ['Aff3',\n",
       "   'Department of Microbiology, University of Port Harcourt, Port Harcourt, Nigeria']],\n",
       " 'publication_year': '2011',\n",
       " 'publication_date': '5-11-2011',\n",
       " 'subjects': ''}"
      ]
     },
     "execution_count": 8,
     "metadata": {},
     "output_type": "execute_result"
    }
   ],
   "source": [
    "parsed_paper_info"
   ]
  },
  {
   "cell_type": "markdown",
   "metadata": {},
   "source": [
    "Passing string instead of file name is also supported. An example is shown below:"
   ]
  },
  {
   "cell_type": "code",
   "execution_count": 15,
   "metadata": {},
   "outputs": [],
   "source": [
    "with open( path_to_xml_file, \"r\" ) as f:\n",
    "    xml_string = f.read()\n",
    "parsed_paper_info_2 = parse_pubmed_xml(xml_string)\n",
    "## the results are identical\n",
    "assert parsed_paper_info_2 == parsed_paper_info"
   ]
  },
  {
   "cell_type": "markdown",
   "metadata": {},
   "source": [
    "This is useful when we want to do some preprocessing to the xml file before parsing it. e.g. prepsocessing the citation marker, etc."
   ]
  },
  {
   "cell_type": "markdown",
   "metadata": {},
   "source": [
    "##### parse_pubmed_paragraph"
   ]
  },
  {
   "cell_type": "code",
   "execution_count": 20,
   "metadata": {},
   "outputs": [],
   "source": [
    "## here all_paragraph = True means keeping the pararaph even if it doesn't have a citation.\n",
    "parsed_paragraphs = parse_pubmed_paragraph(xml_string, all_paragraph= True)"
   ]
  },
  {
   "cell_type": "code",
   "execution_count": 26,
   "metadata": {},
   "outputs": [
    {
     "data": {
      "text/plain": [
       "{'pmc': '3339580',\n",
       " 'pmid': '22582158',\n",
       " 'reference_ids': [],\n",
       " 'section': 'Materials and methods/Culture conditions for degradation',\n",
       " 'text': 'To determine the fate of aromatic amines generated during biodegradation of azo dyes, batch sequential anoxic/aerobic culture experiments were carried using the SWM supplemented with 50\\xa0mg/L of C.I. Direct red 80. The experiment was started by inoculating the medium with the bacterium and incubating at 30\\xa0°C for 12\\xa0h under anoxic conditions or until no color was observed. Subsequently, same flasks were incubated under aerobic conditions as previously described for another 12\\xa0h at 30\\xa0°C. Abiotic control flasks were also set up and kept under similar conditions as the inoculated ones. At pre-determined intervals (every 3\\xa0h), samples were withdrawn from each flask for the determination of percentage dye decolorization, percentage COD reduction and residual TAA concentration.'}"
      ]
     },
     "execution_count": 26,
     "metadata": {},
     "output_type": "execute_result"
    }
   ],
   "source": [
    "parsed_paragraphs[10]"
   ]
  },
  {
   "cell_type": "markdown",
   "metadata": {},
   "source": [
    "##### parse_pubmed_references"
   ]
  },
  {
   "cell_type": "code",
   "execution_count": 23,
   "metadata": {},
   "outputs": [],
   "source": [
    "parsed_refs = parse_pubmed_references(xml_string)"
   ]
  },
  {
   "cell_type": "code",
   "execution_count": 25,
   "metadata": {},
   "outputs": [
    {
     "data": {
      "text/plain": [
       "[{'pmid': '22582158',\n",
       "  'pmc': '3339580',\n",
       "  'ref_id': 'CR57',\n",
       "  'pmid_cited': '19879175',\n",
       "  'doi_cited': '',\n",
       "  'article_title': 'Rapid decolorization of azo dyes in aqueous solution by an ultrasound-assisted electrocatalytic oxidation process',\n",
       "  'name': 'Z Ai; J Li; L Zhang; S Lee',\n",
       "  'year': '2010',\n",
       "  'journal': 'Ultrason Sonochem',\n",
       "  'journal_type': 'journal'},\n",
       " {'pmid': '22582158',\n",
       "  'pmc': '3339580',\n",
       "  'ref_id': 'CR58',\n",
       "  'pmid_cited': '17070992',\n",
       "  'doi_cited': '',\n",
       "  'article_title': 'Continuous fixed bed biosorption of reactive dyes by dried Rhizopus arrhizus: determination of column capacity',\n",
       "  'name': 'Z Aksu; SS Cagatay; F Gonen',\n",
       "  'year': '2007',\n",
       "  'journal': 'J Hazard Mater',\n",
       "  'journal_type': 'journal'}]"
      ]
     },
     "execution_count": 25,
     "metadata": {},
     "output_type": "execute_result"
    }
   ],
   "source": [
    "parsed_refs[:2]"
   ]
  },
  {
   "cell_type": "code",
   "execution_count": null,
   "metadata": {},
   "outputs": [],
   "source": []
  }
 ],
 "metadata": {
  "kernelspec": {
   "display_name": "Python 3",
   "language": "python",
   "name": "python3"
  },
  "language_info": {
   "codemirror_mode": {
    "name": "ipython",
    "version": 3
   },
   "file_extension": ".py",
   "mimetype": "text/x-python",
   "name": "python",
   "nbconvert_exporter": "python",
   "pygments_lexer": "ipython3",
   "version": "3.6.9"
  }
 },
 "nbformat": 4,
 "nbformat_minor": 2
}
